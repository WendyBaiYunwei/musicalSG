{
 "cells": [
  {
   "cell_type": "code",
   "execution_count": 9,
   "id": "absolute-aircraft",
   "metadata": {},
   "outputs": [],
   "source": [
    "from keras import backend as K\n",
    "from keras_preprocessing import sequence\n",
    "from keras.layers import *\n",
    "from keras.models import Model, Sequential\n",
    "import numpy as np\n",
    "import time\n",
    "import os\n",
    "import joblib\n",
    "from sklearn.metrics import accuracy_score\n",
    "from sklearn.tree import DecisionTreeClassifier\n",
    "from sklearn.datasets import make_classification\n",
    "from sklearn.preprocessing import OneHotEncoder\n",
    "from fastai.imports import *\n",
    "from fastai.structured import *\n",
    "from IPython.display import display"
   ]
  },
  {
   "cell_type": "markdown",
   "id": "secondary-beads",
   "metadata": {},
   "source": [
    "Read in training and test data, returns:\n",
    "* x: training set features\n",
    "* y: training set labels\n",
    "* test_x: test set features\n",
    "* test_y: test set labels"
   ]
  },
  {
   "cell_type": "code",
   "execution_count": 2,
   "id": "afraid-roller",
   "metadata": {},
   "outputs": [],
   "source": [
    "train = np.load('dataset/train.npy', allow_pickle=True)\n",
    "\n",
    "x = np.zeros((1801 * 185, 32))\n",
    "y = np.zeros((1801 * 185))\n",
    "n = 0\n",
    "for i in range(1801):\n",
    "    # pad the current song's bars\n",
    "    for j in range(185):\n",
    "        if j < len(train[i][1]) and 1 in train[i][1][j]:\n",
    "            y[n] = train[i][1][j].index(1)\n",
    "        else:\n",
    "            y[n] = 24\n",
    "            \n",
    "        for k in range(32):\n",
    "            if j < len(train[i][0]) and k < len(train[i][0][j]) and 1 in train[i][0][j][k]:\n",
    "                x[n][k] = train[i][0][j][k].index(1)\n",
    "            else:\n",
    "                x[n][k] = 12\n",
    "        n += 1\n",
    "\n",
    "train = np.load('dataset/test.npy', allow_pickle=True)\n",
    "\n",
    "test_x = np.zeros((train.shape[0] * 185, 32))\n",
    "test_y = np.zeros((train.shape[0] * 185))\n",
    "\n",
    "n = 0\n",
    "for i in range(train.shape[0]):\n",
    "    for j in range(185):\n",
    "        if j < len(train[i][1]) and 1 in train[i][1][j]:\n",
    "            test_y[n] = train[i][1][j].index(1)\n",
    "        else:\n",
    "            test_y[n] = 24\n",
    "            \n",
    "        for k in range(32):\n",
    "            if j < len(train[i][0]) and k < len(train[i][0][j]) and 1 in train[i][0][j][k]:\n",
    "                test_x[n][k] = train[i][0][j][k].index(1)\n",
    "            else:\n",
    "                test_x[n][k] = 12\n",
    "        n += 1"
   ]
  },
  {
   "cell_type": "markdown",
   "id": "broken-middle",
   "metadata": {},
   "source": [
    "## Random Forest Classifier"
   ]
  },
  {
   "cell_type": "markdown",
   "id": "bridal-activation",
   "metadata": {},
   "source": [
    "Model definition and training"
   ]
  },
  {
   "cell_type": "code",
   "execution_count": 3,
   "id": "ideal-country",
   "metadata": {},
   "outputs": [
    {
     "data": {
      "text/plain": [
       "RandomForestClassifier(max_features=None, min_samples_leaf=50, n_estimators=60,\n",
       "                       n_jobs=-1)"
      ]
     },
     "execution_count": 3,
     "metadata": {},
     "output_type": "execute_result"
    }
   ],
   "source": [
    "m = RandomForestClassifier(n_estimators = 60, min_samples_leaf = 50, max_features = None, n_jobs = -1)\n",
    "m.fit(x, y)"
   ]
  },
  {
   "cell_type": "markdown",
   "id": "korean-trade",
   "metadata": {},
   "source": [
    "Save model"
   ]
  },
  {
   "cell_type": "code",
   "execution_count": 6,
   "id": "human-gazette",
   "metadata": {},
   "outputs": [
    {
     "data": {
      "text/plain": [
       "['models/RFC.pkl']"
      ]
     },
     "execution_count": 6,
     "metadata": {},
     "output_type": "execute_result"
    }
   ],
   "source": [
    "joblib.dump(m, \"models/RFC.pkl\")"
   ]
  },
  {
   "cell_type": "markdown",
   "id": "decent-johnston",
   "metadata": {},
   "source": [
    "If want to load model"
   ]
  },
  {
   "cell_type": "code",
   "execution_count": null,
   "id": "million-atlantic",
   "metadata": {},
   "outputs": [],
   "source": [
    "m = joblib.load(\"models/RFC.pkl\")"
   ]
  },
  {
   "cell_type": "markdown",
   "id": "painful-halifax",
   "metadata": {},
   "source": [
    "Predict test y"
   ]
  },
  {
   "cell_type": "code",
   "execution_count": 7,
   "id": "personalized-concord",
   "metadata": {},
   "outputs": [
    {
     "name": "stdout",
     "output_type": "stream",
     "text": [
      "0.8785465465465465\n"
     ]
    }
   ],
   "source": [
    "y_pred = m.predict(test_x)\n",
    "print(accuracy_score(y_pred, test_y))"
   ]
  },
  {
   "cell_type": "markdown",
   "id": "interstate-screen",
   "metadata": {},
   "source": [
    "## LSTM"
   ]
  },
  {
   "cell_type": "markdown",
   "id": "athletic-israeli",
   "metadata": {},
   "source": [
    "Onehot encode training y"
   ]
  },
  {
   "cell_type": "code",
   "execution_count": 10,
   "id": "heard-boston",
   "metadata": {},
   "outputs": [],
   "source": [
    "label_encoder = LabelEncoder()\n",
    "integer_encoded = label_encoder.fit_transform(y)\n",
    "onehot_encoder = OneHotEncoder(sparse=False)\n",
    "integer_encoded = integer_encoded.reshape(len(integer_encoded), 1)\n",
    "y_onehot = onehot_encoder.fit_transform(integer_encoded)"
   ]
  },
  {
   "cell_type": "markdown",
   "id": "formed-partition",
   "metadata": {},
   "source": [
    "Model definition and training"
   ]
  },
  {
   "cell_type": "code",
   "execution_count": 11,
   "id": "voluntary-disabled",
   "metadata": {},
   "outputs": [],
   "source": [
    "model = Sequential()\n",
    "model.add(Embedding(input_dim = 25 + 1, output_dim = 10, input_length = 32))\n",
    "model.add(LSTM(10))\n",
    "model.add(Dense(10, activation = \"relu\"))\n",
    "model.add(Dense(25, activation = \"softmax\"))"
   ]
  },
  {
   "cell_type": "code",
   "execution_count": null,
   "id": "faced-router",
   "metadata": {},
   "outputs": [],
   "source": [
    "model.compile(optimizer = \"adam\", loss = \"categorical_crossentropy\")\n",
    "model.fit(x, y_onehot, epochs = 5)"
   ]
  },
  {
   "cell_type": "markdown",
   "id": "fiscal-pound",
   "metadata": {},
   "source": [
    "Save Model"
   ]
  },
  {
   "cell_type": "code",
   "execution_count": null,
   "id": "least-laser",
   "metadata": {},
   "outputs": [],
   "source": [
    "joblib.dump(model, \"models/LSTM.pkl\")"
   ]
  },
  {
   "cell_type": "markdown",
   "id": "friendly-bookmark",
   "metadata": {},
   "source": [
    "If want to load model"
   ]
  },
  {
   "cell_type": "code",
   "execution_count": 12,
   "id": "judicial-paper",
   "metadata": {},
   "outputs": [
    {
     "name": "stderr",
     "output_type": "stream",
     "text": [
      "C:\\Users\\ohjia\\anaconda3\\envs\\fastai2\\lib\\site-packages\\tensorflow_core\\python\\framework\\indexed_slices.py:424: UserWarning: Converting sparse IndexedSlices to a dense Tensor of unknown shape. This may consume a large amount of memory.\n",
      "  \"Converting sparse IndexedSlices to a dense Tensor of unknown shape. \"\n"
     ]
    }
   ],
   "source": [
    "model = joblib.load(\"models/LSTM.pkl\")"
   ]
  },
  {
   "cell_type": "markdown",
   "id": "suited-monte",
   "metadata": {},
   "source": [
    "Onehot encode test y"
   ]
  },
  {
   "cell_type": "code",
   "execution_count": 13,
   "id": "phantom-intent",
   "metadata": {},
   "outputs": [],
   "source": [
    "test_integer_encoded = label_encoder.transform(test_y)\n",
    "test_integer_encoded = test_integer_encoded.reshape(len(test_integer_encoded), 1)\n",
    "test_y_onehot = onehot_encoder.transform(test_integer_encoded)"
   ]
  },
  {
   "cell_type": "markdown",
   "id": "patient-hebrew",
   "metadata": {},
   "source": [
    "Predict test set"
   ]
  },
  {
   "cell_type": "code",
   "execution_count": 15,
   "id": "noble-commissioner",
   "metadata": {},
   "outputs": [
    {
     "data": {
      "text/plain": [
       "0.8704624624624625"
      ]
     },
     "execution_count": 15,
     "metadata": {},
     "output_type": "execute_result"
    }
   ],
   "source": [
    "pred_y_onehot = model.predict(test_x)\n",
    "pred_y = []\n",
    "for cur_y in pred_y_onehot:\n",
    "    inverted = label_encoder.inverse_transform([np.argmax(cur_y)])\n",
    "    pred_y.append(inverted)\n",
    "pred_y2 = []\n",
    "for arr in pred_y:\n",
    "    pred_y2.append(arr[0])\n",
    "accuracy_score(test_y, pred_y2)"
   ]
  }
 ],
 "metadata": {
  "kernelspec": {
   "display_name": "Python 3",
   "language": "python",
   "name": "python3"
  },
  "language_info": {
   "codemirror_mode": {
    "name": "ipython",
    "version": 3
   },
   "file_extension": ".py",
   "mimetype": "text/x-python",
   "name": "python",
   "nbconvert_exporter": "python",
   "pygments_lexer": "ipython3",
   "version": "3.6.12"
  }
 },
 "nbformat": 4,
 "nbformat_minor": 5
}
